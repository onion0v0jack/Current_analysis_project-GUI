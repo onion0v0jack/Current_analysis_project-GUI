{
 "cells": [
  {
   "cell_type": "code",
   "execution_count": 78,
   "metadata": {},
   "outputs": [],
   "source": [
    "import random\n",
    "import time\n",
    "import datetime\n",
    "import os"
   ]
  },
  {
   "cell_type": "code",
   "execution_count": 126,
   "metadata": {},
   "outputs": [
    {
     "ename": "KeyboardInterrupt",
     "evalue": "",
     "output_type": "error",
     "traceback": [
      "\u001b[1;31m---------------------------------------------------------------------------\u001b[0m",
      "\u001b[1;31mKeyboardInterrupt\u001b[0m                         Traceback (most recent call last)",
      "\u001b[1;32m<ipython-input-126-de8420c4c793>\u001b[0m in \u001b[0;36m<module>\u001b[1;34m\u001b[0m\n\u001b[0;32m      6\u001b[0m         \u001b[1;32mwith\u001b[0m \u001b[0mopen\u001b[0m\u001b[1;33m(\u001b[0m\u001b[1;34m'test/current.txt'\u001b[0m\u001b[1;33m,\u001b[0m \u001b[1;34m'a'\u001b[0m\u001b[1;33m)\u001b[0m \u001b[1;32mas\u001b[0m \u001b[0mf\u001b[0m\u001b[1;33m:\u001b[0m\u001b[1;33m\u001b[0m\u001b[1;33m\u001b[0m\u001b[0m\n\u001b[0;32m      7\u001b[0m             \u001b[0mf\u001b[0m\u001b[1;33m.\u001b[0m\u001b[0mwrite\u001b[0m\u001b[1;33m(\u001b[0m\u001b[1;34m'{}, {},\\n'\u001b[0m\u001b[1;33m.\u001b[0m\u001b[0mformat\u001b[0m\u001b[1;33m(\u001b[0m\u001b[0mcount\u001b[0m\u001b[1;33m,\u001b[0m \u001b[0mround\u001b[0m\u001b[1;33m(\u001b[0m\u001b[0mrandom\u001b[0m\u001b[1;33m.\u001b[0m\u001b[0muniform\u001b[0m\u001b[1;33m(\u001b[0m\u001b[1;36m0\u001b[0m\u001b[1;33m,\u001b[0m \u001b[1;36m30\u001b[0m\u001b[1;33m)\u001b[0m\u001b[1;33m,\u001b[0m \u001b[1;36m5\u001b[0m\u001b[1;33m)\u001b[0m\u001b[1;33m)\u001b[0m\u001b[1;33m)\u001b[0m\u001b[1;33m\u001b[0m\u001b[1;33m\u001b[0m\u001b[0m\n\u001b[1;32m----> 8\u001b[1;33m         \u001b[0mtime\u001b[0m\u001b[1;33m.\u001b[0m\u001b[0msleep\u001b[0m\u001b[1;33m(\u001b[0m\u001b[1;36m0.01\u001b[0m\u001b[1;33m)\u001b[0m\u001b[1;33m\u001b[0m\u001b[1;33m\u001b[0m\u001b[0m\n\u001b[0m\u001b[0;32m      9\u001b[0m     \u001b[0mcount\u001b[0m \u001b[1;33m+=\u001b[0m \u001b[1;36m1\u001b[0m\u001b[1;33m\u001b[0m\u001b[1;33m\u001b[0m\u001b[0m\n",
      "\u001b[1;31mKeyboardInterrupt\u001b[0m: "
     ]
    }
   ],
   "source": [
    "with open('test/current.txt', 'w') as f:\n",
    "    f.write('TimeStamp, Current,\\n')\n",
    "count = 0      \n",
    "while True:\n",
    "    for i in range(100):\n",
    "        with open('test/current.txt', 'a') as f:\n",
    "            f.write('{}, {},\\n'.format(count, round(random.uniform(0, 30), 5)))\n",
    "        time.sleep(0.01)\n",
    "    count += 1"
   ]
  },
  {
   "cell_type": "code",
   "execution_count": null,
   "metadata": {},
   "outputs": [],
   "source": []
  },
  {
   "cell_type": "code",
   "execution_count": null,
   "metadata": {},
   "outputs": [],
   "source": [
    "D:\\智邦\\電流異常偵測project-GUI\\test\\current.csv"
   ]
  },
  {
   "cell_type": "code",
   "execution_count": 135,
   "metadata": {},
   "outputs": [
    {
     "data": {
      "text/plain": [
       "True"
      ]
     },
     "execution_count": 135,
     "metadata": {},
     "output_type": "execute_result"
    }
   ],
   "source": [
    "os.path.isfile(r'{}.txt'.format(main_addr))"
   ]
  },
  {
   "cell_type": "code",
   "execution_count": 139,
   "metadata": {},
   "outputs": [],
   "source": [
    "import matplotlib.pyplot as plt\n",
    "from matplotlib.font_manager import FontProperties"
   ]
  },
  {
   "cell_type": "code",
   "execution_count": 142,
   "metadata": {},
   "outputs": [
    {
     "name": "stderr",
     "output_type": "stream",
     "text": [
      "C:\\Users\\onion\\AppData\\Roaming\\Python\\Python37\\site-packages\\ipykernel_launcher.py:15: UserWarning: Matplotlib is currently using module://ipykernel.pylab.backend_inline, which is a non-GUI backend, so cannot show the figure.\n",
      "  from ipykernel import kernelapp as app\n"
     ]
    },
    {
     "data": {
      "image/png": "[encoded data removed]",
      "text/plain": [
       "<Figure size 1152x144 with 1 Axes>"
      ]
     },
     "metadata": {
      "needs_background": "light"
     },
     "output_type": "display_data"
    }
   ],
   "source": [
    "main_addr = r'test\\current.txt'  # self.config['Input data path']\n",
    "if os.path.isfile(r'{}'.format(main_addr)): \n",
    "    Data = pd.read_table(r'{}'.format(main_addr), sep = ',')\n",
    "    Data = Data[['TimeStamp', ' Current']]\n",
    "    count_data = Data.groupby('TimeStamp').count()\n",
    "\n",
    "    %matplotlib inline\n",
    "    fig, ax = plt.subplots(1, 1, figsize = (16, 2), subplot_kw = {'facecolor':'#EEEEEE'}, edgecolor = 'w')\n",
    "    ax.plot(count_data.index[1:-1], count_data.values[1:-1], linewidth = 1, color = 'steelblue')\n",
    "    ax.set_ylabel('count')\n",
    "    ax.set_xlabel('timestamp(sec)')\n",
    "    ax.set_title('蒐取的輸入資料在每個timestamp的資料筆數(設定100Hz)', fontproperties = FontProperties(fname = \"SimHei.ttf\", size = 14))\n",
    "    # ax.set_xlim(173250, 173300)\n",
    "    # plt.subplots_adjust(top = 0.8,bottom = 0.3)#調整子圖間距\n",
    "    fig.show()\n",
    "else:\n",
    "    print('該資料夾無儲存輸入資料')"
   ]
  },
  {
   "cell_type": "code",
   "execution_count": 155,
   "metadata": {},
   "outputs": [
    {
     "name": "stdout",
     "output_type": "stream",
     "text": [
      "[['0001', '0002', '0003', '0004', '0005', '0006', '0007', '0008', '0009', '0010'], ['0014', '0015', '0016', '0017']]\n",
      "     id     Result\n",
      "0  0011     Normal\n",
      "1  0012     Normal\n",
      "2  0013  Anomaly_2\n",
      "3  0014     Normal\n",
      "4  0015     Normal\n",
      "5  0016      Error\n",
      "6  0017     Normal\n"
     ]
    }
   ],
   "source": [
    "temp = [['0001', '0002', '0003', '0004', '0005', '0006', '0007', '0008', '0009', '0010'], ['0014', '0015', '0016', '0017']]\n",
    "table = pd.DataFrame(columns = ['id', 'Result'])\n",
    "table.loc[-1] = ['0017', 'Normal']\n",
    "table.loc[-2] = ['0016', 'Error']\n",
    "table.loc[-3] = ['0015', 'Normal']\n",
    "table.loc[-4] = ['0014', 'Normal']\n",
    "table.loc[-5] = ['0013', 'Anomaly_2']\n",
    "table.loc[-6] = ['0012', 'Normal']\n",
    "table.loc[-7] = ['0011', 'Normal']\n",
    "table.index = table.index + 7\n",
    "table = table.sort_index()\n",
    "main_addr = r'test\\current.txt'  # self.config['Input data path']\n",
    "print(temp)\n",
    "print(table)"
   ]
  },
  {
   "cell_type": "code",
   "execution_count": null,
   "metadata": {},
   "outputs": [],
   "source": [
    "Data = pd.read_table(r'{}'.format(main_addr), sep = ',')\n",
    "Data = Data[['TimeStamp', ' Current']]\n",
    "count_data = Data.groupby('TimeStamp').count()\n",
    "\n",
    "%matplotlib inline\n",
    "fig, ax = plt.subplots(2, 1, figsize = (16, 2), subplot_kw = {'facecolor':'#EEEEEE'}, edgecolor = 'white')\n",
    "ax.plot(count_data.index[1:-1], count_data.values[1:-1], linewidth = 1, color = 'steelblue')\n",
    "ax.set_ylabel('count')\n",
    "ax.set_xlabel('timestamp(sec)')\n",
    "ax.set_title('蒐取的輸入資料在每個timestamp的資料筆數(設定100Hz)', fontproperties = FontProperties(fname = \"SimHei.ttf\", size = 14))\n",
    "# ax.set_xlim(173250, 173300)\n",
    "# plt.subplots_adjust(top = 0.8,bottom = 0.3)#調整子圖間距\n",
    "fig.show()\n"
   ]
  },
  {
   "cell_type": "code",
   "execution_count": null,
   "metadata": {},
   "outputs": [],
   "source": []
  },
  {
   "cell_type": "code",
   "execution_count": null,
   "metadata": {},
   "outputs": [],
   "source": []
  },
  {
   "cell_type": "code",
   "execution_count": null,
   "metadata": {},
   "outputs": [],
   "source": []
  },
  {
   "cell_type": "code",
   "execution_count": null,
   "metadata": {},
   "outputs": [],
   "source": []
  },
  {
   "cell_type": "code",
   "execution_count": null,
   "metadata": {},
   "outputs": [],
   "source": []
  }
 ],
 "metadata": {
  "kernelspec": {
   "display_name": "Python [conda env:env01_tensorflow1.15] *",
   "language": "python",
   "name": "conda-env-env01_tensorflow1.15-py"
  },
  "language_info": {
   "codemirror_mode": {
    "name": "ipython",
    "version": 3
   },
   "file_extension": ".py",
   "mimetype": "text/x-python",
   "name": "python",
   "nbconvert_exporter": "python",
   "pygments_lexer": "ipython3",
   "version": "3.7.6"
  }
 },
 "nbformat": 4,
 "nbformat_minor": 4
}
